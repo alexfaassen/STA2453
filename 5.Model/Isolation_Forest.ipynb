{
 "cells": [
  {
   "cell_type": "markdown",
   "metadata": {},
   "source": [
    "# Isolation Forest"
   ]
  },
  {
   "cell_type": "markdown",
   "metadata": {},
   "source": [
    "## Load Data"
   ]
  },
  {
   "cell_type": "code",
   "execution_count": null,
   "metadata": {},
   "outputs": [],
   "source": [
    "## Libraries\n",
    "# lightkurve\n",
    "#import lightkurve as lk\n",
    "import numpy as np\n",
    "import pandas as pd\n",
    "import matplotlib.pyplot as plt\n",
    "import seaborn as sns\n",
    "# import statsmodels.api as sm\n",
    "# import warnings\n",
    "# import pickle\n",
    "from sklearn.ensemble import IsolationForest\n",
    "# from sklearn.preprocessing import StandardScaler"
   ]
  },
  {
   "cell_type": "code",
   "execution_count": 10,
   "metadata": {},
   "outputs": [
    {
     "name": "stdout",
     "output_type": "stream",
     "text": [
      "(18856, 4)\n",
      "             pdcsap_flux  pdcsap_clean        trend  seasonal\n",
      "1437.978646          NaN      1.423914  1564.788866 -1.753096\n",
      "1437.980034          NaN     -1.225973  1564.784308  0.901349\n",
      "1437.981423          NaN      1.204118  1564.779761 -1.524195\n",
      "1437.982812          NaN      2.528983  1564.775225 -2.844523\n",
      "1437.984201          NaN      0.485369  1564.770699 -0.796384\n",
      "(18856, 1)\n",
      "<class 'pandas.core.frame.DataFrame'>\n",
      "Float64Index: 18856 entries, 1437.978645522663 to 1464.2854684532865\n",
      "Data columns (total 1 columns):\n",
      " #   Column        Non-Null Count  Dtype  \n",
      "---  ------        --------------  -----  \n",
      " 0   pdcsap_clean  18856 non-null  float64\n",
      "dtypes: float64(1)\n",
      "memory usage: 294.6 KB\n"
     ]
    },
    {
     "data": {
      "text/html": [
       "<div>\n",
       "<style scoped>\n",
       "    .dataframe tbody tr th:only-of-type {\n",
       "        vertical-align: middle;\n",
       "    }\n",
       "\n",
       "    .dataframe tbody tr th {\n",
       "        vertical-align: top;\n",
       "    }\n",
       "\n",
       "    .dataframe thead th {\n",
       "        text-align: right;\n",
       "    }\n",
       "</style>\n",
       "<table border=\"1\" class=\"dataframe\">\n",
       "  <thead>\n",
       "    <tr style=\"text-align: right;\">\n",
       "      <th></th>\n",
       "      <th>pdcsap_clean</th>\n",
       "    </tr>\n",
       "  </thead>\n",
       "  <tbody>\n",
       "    <tr>\n",
       "      <th>1437.978646</th>\n",
       "      <td>1.423914</td>\n",
       "    </tr>\n",
       "    <tr>\n",
       "      <th>1437.980034</th>\n",
       "      <td>-1.225973</td>\n",
       "    </tr>\n",
       "    <tr>\n",
       "      <th>1437.981423</th>\n",
       "      <td>1.204118</td>\n",
       "    </tr>\n",
       "    <tr>\n",
       "      <th>1437.982812</th>\n",
       "      <td>2.528983</td>\n",
       "    </tr>\n",
       "    <tr>\n",
       "      <th>1437.984201</th>\n",
       "      <td>0.485369</td>\n",
       "    </tr>\n",
       "  </tbody>\n",
       "</table>\n",
       "</div>"
      ],
      "text/plain": [
       "             pdcsap_clean\n",
       "1437.978646      1.423914\n",
       "1437.980034     -1.225973\n",
       "1437.981423      1.204118\n",
       "1437.982812      2.528983\n",
       "1437.984201      0.485369"
      ]
     },
     "execution_count": 10,
     "metadata": {},
     "output_type": "execute_result"
    }
   ],
   "source": [
    "##(\"../0.Data/031381302_imputed.csv\")\n",
    "\n",
    "## Data\n",
    "df = pd.read_csv(\"../0.Data/031381302_imputed.csv\", index_col = [0])\n",
    "\n",
    "# Check\n",
    "print(df.shape)\n",
    "print(df.head())\n",
    "\n",
    "## Time Series of interest\n",
    "lightcurve = df.loc[:, [\"pdcsap_clean\"]]\n",
    "lightcurve.sort_index(inplace=True)\n",
    "\n",
    "# Check\n",
    "print(lightcurve.shape); lightcurve.info(); lightcurve.head()"
   ]
  },
  {
   "cell_type": "markdown",
   "metadata": {},
   "source": [
    "## Model Setup"
   ]
  },
  {
   "cell_type": "code",
   "execution_count": null,
   "metadata": {},
   "outputs": [],
   "source": [
    "##"
   ]
  },
  {
   "cell_type": "markdown",
   "metadata": {},
   "source": [
    "## Train Model"
   ]
  },
  {
   "cell_type": "code",
   "execution_count": null,
   "metadata": {},
   "outputs": [],
   "source": [
    "## Isolation Forest\n",
    "model = IsolationForest(contamination = \"auto\") #, random_state = 42)\n",
    "# contamination: proportion of anomalies in the data.\n",
    "# random_state: for reproducibility.\n",
    "model.fit(lightcurve)\n",
    "\n",
    "## Predict anomalies\n",
    "anomalies = model.predict(lightcurve)"
   ]
  },
  {
   "cell_type": "code",
   "execution_count": null,
   "metadata": {},
   "outputs": [],
   "source": [
    "## Plot - Highlight anomalies\n",
    "plt.figure(figsize=(15, 6))\n",
    "plt.plot(data['value'], label='Time Series', color='blue')\n",
    "plt.scatter(data[data['anomaly'] == 1].index, \n",
    "            data[data['anomaly'] == 1]['value'], \n",
    "            color='red', label='Anomalies')\n",
    "plt.title('Anomaly Detection using Isolation Forest')\n",
    "plt.xlabel('Time')\n",
    "plt.ylabel('Value')\n",
    "plt.legend()\n",
    "plt.show()"
   ]
  },
  {
   "cell_type": "markdown",
   "metadata": {},
   "source": [
    "## Exploration"
   ]
  },
  {
   "cell_type": "code",
   "execution_count": null,
   "metadata": {},
   "outputs": [],
   "source": [
    "##"
   ]
  }
 ],
 "metadata": {
  "kernelspec": {
   "display_name": "Python 3",
   "language": "python",
   "name": "python3"
  },
  "language_info": {
   "codemirror_mode": {
    "name": "ipython",
    "version": 3
   },
   "file_extension": ".py",
   "mimetype": "text/x-python",
   "name": "python",
   "nbconvert_exporter": "python",
   "pygments_lexer": "ipython3",
   "version": "3.11.0"
  }
 },
 "nbformat": 4,
 "nbformat_minor": 2
}
