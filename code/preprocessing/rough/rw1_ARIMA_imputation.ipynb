{
 "cells": [
  {
   "cell_type": "markdown",
   "metadata": {},
   "source": [
    "# ARIMA Imputation"
   ]
  },
  {
   "cell_type": "markdown",
   "metadata": {},
   "source": [
    "## Load Data"
   ]
  },
  {
   "cell_type": "code",
   "execution_count": null,
   "metadata": {},
   "outputs": [],
   "source": [
    "## Libraries\n",
    "# lightkurve\n",
    "#import lightkurve as lk\n",
    "import numpy as np\n",
    "import pandas as pd\n",
    "import matplotlib.pyplot as plt\n",
    "import seaborn as sns\n",
    "#import random\n",
    "from statsmodels.tsa.arima.model import ARIMA\n",
    "#import statsmodels.api as sm\n",
    "import itertools\n",
    "import warnings"
   ]
  },
  {
   "cell_type": "code",
   "execution_count": 7,
   "metadata": {},
   "outputs": [
    {
     "name": "stdout",
     "output_type": "stream",
     "text": [
      "(17719, 24)\n",
      "(17719, 1)\n",
      "<class 'pandas.core.frame.DataFrame'>\n",
      "Float64Index: 17719 entries, 1437.978645522663 to 1464.2854684532865\n",
      "Data columns (total 1 columns):\n",
      " #   Column       Non-Null Count  Dtype  \n",
      "---  ------       --------------  -----  \n",
      " 0   pdcsap_flux  17033 non-null  float64\n",
      "dtypes: float64(1)\n",
      "memory usage: 276.9 KB\n"
     ]
    },
    {
     "data": {
      "text/html": [
       "<div>\n",
       "<style scoped>\n",
       "    .dataframe tbody tr th:only-of-type {\n",
       "        vertical-align: middle;\n",
       "    }\n",
       "\n",
       "    .dataframe tbody tr th {\n",
       "        vertical-align: top;\n",
       "    }\n",
       "\n",
       "    .dataframe thead th {\n",
       "        text-align: right;\n",
       "    }\n",
       "</style>\n",
       "<table border=\"1\" class=\"dataframe\">\n",
       "  <thead>\n",
       "    <tr style=\"text-align: right;\">\n",
       "      <th></th>\n",
       "      <th>pdcsap_flux</th>\n",
       "    </tr>\n",
       "    <tr>\n",
       "      <th>time</th>\n",
       "      <th></th>\n",
       "    </tr>\n",
       "  </thead>\n",
       "  <tbody>\n",
       "    <tr>\n",
       "      <th>1437.978646</th>\n",
       "      <td>NaN</td>\n",
       "    </tr>\n",
       "    <tr>\n",
       "      <th>1437.980034</th>\n",
       "      <td>NaN</td>\n",
       "    </tr>\n",
       "    <tr>\n",
       "      <th>1437.981423</th>\n",
       "      <td>NaN</td>\n",
       "    </tr>\n",
       "    <tr>\n",
       "      <th>1437.982812</th>\n",
       "      <td>NaN</td>\n",
       "    </tr>\n",
       "    <tr>\n",
       "      <th>1437.984201</th>\n",
       "      <td>NaN</td>\n",
       "    </tr>\n",
       "  </tbody>\n",
       "</table>\n",
       "</div>"
      ],
      "text/plain": [
       "             pdcsap_flux\n",
       "time                    \n",
       "1437.978646          NaN\n",
       "1437.980034          NaN\n",
       "1437.981423          NaN\n",
       "1437.982812          NaN\n",
       "1437.984201          NaN"
      ]
     },
     "execution_count": 7,
     "metadata": {},
     "output_type": "execute_result"
    }
   ],
   "source": [
    "## Data\n",
    "df = pd.read_csv(\"0.Data/031381302.csv\")\n",
    "\n",
    "# Check\n",
    "print(df.shape)\n",
    "#df.info()\n",
    "\n",
    "## Time Series of interest\n",
    "pdcsap = df.loc[:, [\"time\", \"pdcsap_flux\"]]\n",
    "# Set \"time\" as index\n",
    "pdcsap.set_index(\"time\", inplace=True)\n",
    "pdcsap.sort_index()\n",
    "\n",
    "# Check\n",
    "print(pdcsap.shape); pdcsap.info(); pdcsap.head()"
   ]
  },
  {
   "cell_type": "markdown",
   "metadata": {},
   "source": [
    "## Additional Exploratory Analysis"
   ]
  },
  {
   "cell_type": "code",
   "execution_count": 15,
   "metadata": {},
   "outputs": [
    {
     "name": "stdout",
     "output_type": "stream",
     "text": [
      "0\n",
      "0\n",
      "0\n"
     ]
    }
   ],
   "source": [
    "from pmdarima.arima.utils import ndiffs\n",
    "y = pdcsap.pdcsap_flux.dropna()\n",
    "\n",
    "## Adf Test\n",
    "print(ndiffs(y, test='adf'))\n",
    "\n",
    "# KPSS test\n",
    "print(ndiffs(y, test='kpss'))\n",
    "\n",
    "# PP test:\n",
    "print(ndiffs(y, test='pp'))"
   ]
  },
  {
   "cell_type": "code",
   "execution_count": null,
   "metadata": {},
   "outputs": [],
   "source": [
    "#"
   ]
  },
  {
   "cell_type": "markdown",
   "metadata": {},
   "source": [
    "## Choosing Order\n",
    "Hyperparameter Tuning"
   ]
  },
  {
   "cell_type": "code",
   "execution_count": null,
   "metadata": {},
   "outputs": [],
   "source": [
    "## Hyperparameters (Order)\n",
    "# Define range of p, d, q values to search\n",
    "p = range(0, 3)  # Autoregressive terms\n",
    "d = [0]  # Differencing (0 since ADF test confirmed stationarity)\n",
    "q = range(0, 3)  # Moving average terms\n",
    "\n",
    "# Generate all possible combinations of p, d, q\n",
    "pdq_combinations = list(itertools.product(p, d, q))\n",
    "\n",
    "## Iteration\n",
    "aic_results = []\n",
    "\n",
    "# Iterate over all combinations and fit ARIMA models\n",
    "for order in pdq_combinations:\n",
    "    try:\n",
    "        model = ARIMA(pdcsap[\"pdcsap_flux\"].dropna(), order=order)\n",
    "        model_fit = model.fit()\n",
    "        aic_results.append((order, model_fit.aic))\n",
    "    except:\n",
    "        continue\n",
    "\n",
    "# Find the best order with lowest AIC\n",
    "best_order, best_aic = min(aic_results, key=lambda x: x[1])\n",
    "\n",
    "# Display best order\n",
    "best_order, best_aic"
   ]
  },
  {
   "cell_type": "code",
   "execution_count": null,
   "metadata": {},
   "outputs": [],
   "source": [
    "## SARIMA\n",
    "# Define SARIMA parameter ranges\n",
    "p = range(0, 3)  # Non-seasonal AR terms\n",
    "d = [0]  # Differencing (0 since ADF confirmed stationarity)\n",
    "q = range(0, 3)  # Non-seasonal MA terms\n",
    "P = range(0, 2)  # Seasonal AR terms\n",
    "D = [0]  # Seasonal differencing (0 since ADF confirmed stationarity)\n",
    "Q = range(0, 2)  # Seasonal MA terms\n",
    "s = [200]  # Seasonal period from ACF analysis\n",
    "\n",
    "# Generate all possible SARIMA parameter combinations\n",
    "param_combinations = list(itertools.product(p, d, q, P, D, Q, s))"
   ]
  },
  {
   "cell_type": "markdown",
   "metadata": {},
   "source": [
    "## Diagnostics"
   ]
  },
  {
   "cell_type": "code",
   "execution_count": null,
   "metadata": {},
   "outputs": [],
   "source": [
    "##"
   ]
  },
  {
   "cell_type": "markdown",
   "metadata": {},
   "source": [
    "## Impute Missing Values"
   ]
  },
  {
   "cell_type": "code",
   "execution_count": null,
   "metadata": {},
   "outputs": [],
   "source": [
    "## Function to impute missing values with ARIMA model\n",
    "def arima_impute(series, order=(5,1,0)):\n",
    "    \"\"\"\n",
    "    Impute missing values in a time series using an ARIMA model.\n",
    "    \n",
    "    Parameters:\n",
    "        series (pd.Series): Time series data with NaN values.\n",
    "        order (tuple): ARIMA order (p, d, q).\n",
    "    \n",
    "    Returns:\n",
    "        pd.Series: Time series with missing values imputed.\n",
    "    \"\"\"\n",
    "    series_filled = series.copy()\n",
    "    \n",
    "    # Identify missing value indices\n",
    "    missing_indices = series[series.isna()].index\n",
    "    \n",
    "    # Fit ARIMA on non-missing values\n",
    "    model = ARIMA(series.dropna(), order=order)\n",
    "    model_fit = model.fit()\n",
    "    \n",
    "    # Predict missing values\n",
    "    for idx in missing_indices:\n",
    "        pred_value = model_fit.forecast(steps=1)[0]  # Get prediction\n",
    "        series_filled.loc[idx] = pred_value  # Fill missing value\n",
    "        \n",
    "        # Update model with newly imputed value (optional for better predictions)\n",
    "        model = ARIMA(series_filled.dropna(), order=order)\n",
    "        model_fit = model.fit()\n",
    "    \n",
    "    return series_filled"
   ]
  },
  {
   "cell_type": "code",
   "execution_count": null,
   "metadata": {},
   "outputs": [],
   "source": [
    "# ## Order\n",
    "# order = (1, 0, 1)\n",
    "\n",
    "# ## Invoke helper function\n",
    "# pdcsap[\"pdcsap_101\"] = arima_impute(pdcsap[\"pdcsap_flux\"], order = order)\n",
    "\n",
    "# ## Save the imputed dataset\n",
    "# pdcsap.to_csv('imputed_data.csv')"
   ]
  }
 ],
 "metadata": {
  "kernelspec": {
   "display_name": "Python 3",
   "language": "python",
   "name": "python3"
  },
  "language_info": {
   "codemirror_mode": {
    "name": "ipython",
    "version": 3
   },
   "file_extension": ".py",
   "mimetype": "text/x-python",
   "name": "python",
   "nbconvert_exporter": "python",
   "pygments_lexer": "ipython3",
   "version": "3.11.0"
  }
 },
 "nbformat": 4,
 "nbformat_minor": 2
}
