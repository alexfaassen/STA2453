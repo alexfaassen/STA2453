{
 "cells": [
  {
   "cell_type": "markdown",
   "metadata": {},
   "source": [
    "# Exploratory Data Analysis"
   ]
  },
  {
   "cell_type": "code",
   "execution_count": 4,
   "metadata": {},
   "outputs": [],
   "source": [
    "# Libraries\n",
    "import pandas as pd"
   ]
  },
  {
   "cell_type": "code",
   "execution_count": 11,
   "metadata": {},
   "outputs": [
    {
     "data": {
      "text/plain": [
       "<bound method NDFrame.head of               time  flux  flux_err  timecorr  cadenceno  centroid_col  \\\n",
       "0      1437.978646   NaN       NaN -0.000371     151577           NaN   \n",
       "1      1437.980034   NaN       NaN -0.000371     151578           NaN   \n",
       "2      1437.981423   NaN       NaN -0.000371     151579           NaN   \n",
       "3      1437.982812   NaN       NaN -0.000371     151580           NaN   \n",
       "4      1437.984201   NaN       NaN -0.000371     151581           NaN   \n",
       "...            ...   ...       ...       ...        ...           ...   \n",
       "17714  1464.278524   NaN       NaN -0.000482     170513           NaN   \n",
       "17715  1464.279913   NaN       NaN -0.000482     170514           NaN   \n",
       "17716  1464.281302   NaN       NaN -0.000482     170515           NaN   \n",
       "17717  1464.282691   NaN       NaN -0.000482     170516           NaN   \n",
       "17718  1464.285468   NaN       NaN -0.000482     170518           NaN   \n",
       "\n",
       "       centroid_row  sap_flux  sap_flux_err  sap_bkg  ...  psf_centr1  \\\n",
       "0               NaN       NaN           NaN      NaN  ...         NaN   \n",
       "1               NaN       NaN           NaN      NaN  ...         NaN   \n",
       "2               NaN       NaN           NaN      NaN  ...         NaN   \n",
       "3               NaN       NaN           NaN      NaN  ...         NaN   \n",
       "4               NaN       NaN           NaN      NaN  ...         NaN   \n",
       "...             ...       ...           ...      ...  ...         ...   \n",
       "17714           NaN       NaN           NaN      NaN  ...         NaN   \n",
       "17715           NaN       NaN           NaN      NaN  ...         NaN   \n",
       "17716           NaN       NaN           NaN      NaN  ...         NaN   \n",
       "17717           NaN       NaN           NaN      NaN  ...         NaN   \n",
       "17718           NaN       NaN           NaN      NaN  ...         NaN   \n",
       "\n",
       "       psf_centr1_err  psf_centr2  psf_centr2_err  mom_centr1  mom_centr1_err  \\\n",
       "0                 NaN         NaN             NaN         NaN             NaN   \n",
       "1                 NaN         NaN             NaN         NaN             NaN   \n",
       "2                 NaN         NaN             NaN         NaN             NaN   \n",
       "3                 NaN         NaN             NaN         NaN             NaN   \n",
       "4                 NaN         NaN             NaN         NaN             NaN   \n",
       "...               ...         ...             ...         ...             ...   \n",
       "17714             NaN         NaN             NaN         NaN             NaN   \n",
       "17715             NaN         NaN             NaN         NaN             NaN   \n",
       "17716             NaN         NaN             NaN         NaN             NaN   \n",
       "17717             NaN         NaN             NaN         NaN             NaN   \n",
       "17718             NaN         NaN             NaN         NaN             NaN   \n",
       "\n",
       "       mom_centr2  mom_centr2_err  pos_corr1  pos_corr2  \n",
       "0             NaN             NaN        NaN        NaN  \n",
       "1             NaN             NaN        NaN        NaN  \n",
       "2             NaN             NaN        NaN        NaN  \n",
       "3             NaN             NaN        NaN        NaN  \n",
       "4             NaN             NaN        NaN        NaN  \n",
       "...           ...             ...        ...        ...  \n",
       "17714         NaN             NaN        NaN        NaN  \n",
       "17715         NaN             NaN        NaN        NaN  \n",
       "17716         NaN             NaN        NaN        NaN  \n",
       "17717         NaN             NaN        NaN        NaN  \n",
       "17718         NaN             NaN        NaN        NaN  \n",
       "\n",
       "[17719 rows x 24 columns]>"
      ]
     },
     "execution_count": 11,
     "metadata": {},
     "output_type": "execute_result"
    }
   ],
   "source": [
    "# Data\n",
    "df = pd.read_csv(\"031381302.csv\")\n",
    "\n",
    "# Check\n",
    "df.shape\n",
    "df.head"
   ]
  },
  {
   "cell_type": "code",
   "execution_count": null,
   "metadata": {},
   "outputs": [],
   "source": []
  }
 ],
 "metadata": {
  "kernelspec": {
   "display_name": "Python 3",
   "language": "python",
   "name": "python3"
  },
  "language_info": {
   "codemirror_mode": {
    "name": "ipython",
    "version": 3
   },
   "file_extension": ".py",
   "mimetype": "text/x-python",
   "name": "python",
   "nbconvert_exporter": "python",
   "pygments_lexer": "ipython3",
   "version": "3.11.0"
  }
 },
 "nbformat": 4,
 "nbformat_minor": 2
}
